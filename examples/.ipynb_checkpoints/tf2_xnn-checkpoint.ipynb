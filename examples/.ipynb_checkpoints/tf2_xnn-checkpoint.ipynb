{
 "cells": [
  {
   "cell_type": "code",
   "execution_count": 1,
   "metadata": {},
   "outputs": [],
   "source": [
    "%matplotlib inline\n",
    "import os\n",
    "import time\n",
    "import itertools\n",
    "import numpy as np\n",
    "import pandas as pd\n",
    "from scipy.special import comb\n",
    "import matplotlib.lines as mlines\n",
    "from sklearn.utils import shuffle\n",
    "from scipy.stats import ortho_group\n",
    "from matplotlib import pyplot as plt\n",
    "from sklearn.model_selection import train_test_split\n",
    "from sklearn.preprocessing import MinMaxScaler\n",
    "\n",
    "import tensorflow as tf\n",
    "from tensorflow.keras import layers\n",
    "from tensorflow.python.keras.callbacks import EarlyStopping\n",
    "from tensorflow.keras.layers import BatchNormalization\n",
    "\n",
    "import tensorflow as tf\n",
    "from xnn.xnn import xNN"
   ]
  },
  {
   "cell_type": "code",
   "execution_count": 2,
   "metadata": {},
   "outputs": [],
   "source": [
    "# Simulation\n",
    "corr = 0.5\n",
    "noise_sigma = 1\n",
    "dummy_num = 0\n",
    "feature_num = 10\n",
    "test_num = 10000\n",
    "data_num = 10000\n",
    "\n",
    "proj_matrix = np.zeros((feature_num,4))\n",
    "proj_matrix[:7, 0] = np.array([1,0,0,0,0,0,0])\n",
    "proj_matrix[:7, 1] = np.array([0,1,0,0,0,0,0])\n",
    "proj_matrix[:7, 2] = np.array([0,0,0.5,0.5,0,0,0])\n",
    "proj_matrix[:7, 3] = np.array([0,0,0,0,0.2,0.3,0.5])\n",
    "\n",
    "def data_generator1(data_num, feature_num, corr, proj_matrix, noise_sigma):\n",
    "    u = np.random.uniform(-1,1, [data_num, 1])\n",
    "    t= np.sqrt(corr/(1-corr))\n",
    "    X = np.zeros((data_num, feature_num))\n",
    "    for i in range(feature_num):\n",
    "        X[:, i:i+1] = (np.random.uniform(-1,1,[data_num,1])+t*u)/(1+t)\n",
    "    Y = np.reshape(2*np.dot(X, proj_matrix[:,0])+0.2*np.exp(-4*np.dot(X, proj_matrix[:,1])) + \\\n",
    "              3*(np.dot(X, proj_matrix[:,2]))**2+2.5*np.sin(np.pi*np.dot(X, proj_matrix[:,3])), [-1,1]) + \\\n",
    "              noise_sigma*np.random.normal(0,1, [data_num,1])\n",
    "    return X, Y\n",
    "\n",
    "np.random.seed(0)\n",
    "X, Y = data_generator1(data_num+test_num, feature_num+dummy_num, corr, proj_matrix, noise_sigma)\n",
    "scaler_x = MinMaxScaler((-1, 1)); scaler_y = MinMaxScaler((-1, 1))\n",
    "sX = scaler_x.fit_transform(X); sY = scaler_y.fit_transform(Y)\n",
    "train_x, test_x, train_y, test_y = train_test_split(sX, sY, test_size = test_num)"
   ]
  },
  {
   "cell_type": "code",
   "execution_count": null,
   "metadata": {
    "scrolled": true
   },
   "outputs": [
    {
     "name": "stdout",
     "output_type": "stream",
     "text": [
      "Initial training.\n"
     ]
    }
   ],
   "source": [
    "tf.random.set_seed(0)\n",
    "model = xNN(input_num = 10, input_dummy_num=0, subnet_num=10, subnet_arch=[10, 6], task=\"Regression\",\n",
    "               activation_func=tf.tanh, batch_size=1000, training_epochs=5000, lr_bp=0.001, \n",
    "               beta_threshold=0.01, tuning_epochs=200, l1_proj=0.001, l1_subnet=0.001, \n",
    "               verbose=True, val_ratio=0.2, early_stop_thres=500)\n",
    "model.fit(train_x, train_y)\n",
    "model.visualize(\"./\", \"test\")"
   ]
  },
  {
   "cell_type": "code",
   "execution_count": null,
   "metadata": {},
   "outputs": [],
   "source": [
    "tr_pred = model.predict(model.tr_x) \n",
    "val_pred = model.predict(model.val_x) \n",
    "pred_test = model.predict(test_x)\n",
    "\n",
    "sosxnn_mse_stat = np.hstack([np.round(np.mean((scaler_y.inverse_transform(tr_pred) - scaler_y.inverse_transform(model.tr_y))**2),5),\\\n",
    "                             np.round(np.mean((scaler_y.inverse_transform(val_pred) - scaler_y.inverse_transform(model.val_y))**2),5),\\\n",
    "               np.round(np.mean((scaler_y.inverse_transform(pred_test) - scaler_y.inverse_transform(test_y))**2),5)])\n",
    "print(sosxnn_mse_stat)"
   ]
  },
  {
   "cell_type": "code",
   "execution_count": null,
   "metadata": {},
   "outputs": [],
   "source": []
  }
 ],
 "metadata": {
  "kernelspec": {
   "display_name": "Python (tf2)",
   "language": "python",
   "name": "tf2"
  },
  "language_info": {
   "codemirror_mode": {
    "name": "ipython",
    "version": 3
   },
   "file_extension": ".py",
   "mimetype": "text/x-python",
   "name": "python",
   "nbconvert_exporter": "python",
   "pygments_lexer": "ipython3",
   "version": "3.6.8"
  }
 },
 "nbformat": 4,
 "nbformat_minor": 2
}
